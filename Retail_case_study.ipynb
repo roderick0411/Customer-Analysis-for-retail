{
 "cells": [
  {
   "cell_type": "code",
   "execution_count": 1,
   "metadata": {},
   "outputs": [],
   "source": [
    "import pandas as pd\n",
    "import numpy as np\n",
    "import matplotlib.pyplot as plt\n",
    "import seaborn as sns\n",
    "import datetime as dt\n",
    "sns.set_theme(style=\"darkgrid\")"
   ]
  },
  {
   "cell_type": "code",
   "execution_count": 2,
   "metadata": {},
   "outputs": [],
   "source": [
    "customers = pd.read_csv('Customer.csv', parse_dates=[1], infer_datetime_format=True)\n",
    "transactions = pd.read_csv('Transactions.csv', parse_dates=[2], infer_datetime_format=True)\n",
    "prod_cat = pd.read_csv('prod_cat_info.csv')"
   ]
  },
  {
   "cell_type": "code",
   "execution_count": 3,
   "metadata": {},
   "outputs": [
    {
     "data": {
      "text/plain": [
       "True"
      ]
     },
     "execution_count": 3,
     "metadata": {},
     "output_type": "execute_result"
    }
   ],
   "source": [
    "# Creating the final table\n",
    "customer_final = transactions.merge(customers, left_on='cust_id', right_on='customer_Id').drop(['cust_id'], axis=1).merge(prod_cat, left_on=['prod_cat_code', 'prod_subcat_code'], right_on=['prod_cat_code', 'prod_sub_cat_code']).drop('prod_sub_cat_code', axis=1)\n",
    "\n",
    "# Ensuring we have all the transactions\n",
    "customer_final.shape[0] == transactions.shape[0]"
   ]
  },
  {
   "cell_type": "code",
   "execution_count": 4,
   "metadata": {},
   "outputs": [
    {
     "data": {
      "text/html": [
       "<div>\n",
       "<style scoped>\n",
       "    .dataframe tbody tr th:only-of-type {\n",
       "        vertical-align: middle;\n",
       "    }\n",
       "\n",
       "    .dataframe tbody tr th {\n",
       "        vertical-align: top;\n",
       "    }\n",
       "\n",
       "    .dataframe thead th {\n",
       "        text-align: right;\n",
       "    }\n",
       "</style>\n",
       "<table border=\"1\" class=\"dataframe\">\n",
       "  <thead>\n",
       "    <tr style=\"text-align: right;\">\n",
       "      <th></th>\n",
       "      <th>transaction_id</th>\n",
       "      <th>tran_date</th>\n",
       "      <th>prod_subcat_code</th>\n",
       "      <th>prod_cat_code</th>\n",
       "      <th>Qty</th>\n",
       "      <th>Rate</th>\n",
       "      <th>Tax</th>\n",
       "      <th>total_amt</th>\n",
       "      <th>Store_type</th>\n",
       "      <th>customer_Id</th>\n",
       "      <th>DOB</th>\n",
       "      <th>Gender</th>\n",
       "      <th>city_code</th>\n",
       "      <th>prod_cat</th>\n",
       "      <th>prod_subcat</th>\n",
       "    </tr>\n",
       "  </thead>\n",
       "  <tbody>\n",
       "    <tr>\n",
       "      <th>0</th>\n",
       "      <td>80712190438</td>\n",
       "      <td>2014-02-28</td>\n",
       "      <td>1</td>\n",
       "      <td>1</td>\n",
       "      <td>-5</td>\n",
       "      <td>-772</td>\n",
       "      <td>405.300</td>\n",
       "      <td>-4265.300</td>\n",
       "      <td>e-Shop</td>\n",
       "      <td>270351</td>\n",
       "      <td>1981-09-26</td>\n",
       "      <td>M</td>\n",
       "      <td>5.0</td>\n",
       "      <td>Clothing</td>\n",
       "      <td>Women</td>\n",
       "    </tr>\n",
       "    <tr>\n",
       "      <th>1</th>\n",
       "      <td>80712190438</td>\n",
       "      <td>2014-02-20</td>\n",
       "      <td>1</td>\n",
       "      <td>1</td>\n",
       "      <td>5</td>\n",
       "      <td>772</td>\n",
       "      <td>405.300</td>\n",
       "      <td>4265.300</td>\n",
       "      <td>e-Shop</td>\n",
       "      <td>270351</td>\n",
       "      <td>1981-09-26</td>\n",
       "      <td>M</td>\n",
       "      <td>5.0</td>\n",
       "      <td>Clothing</td>\n",
       "      <td>Women</td>\n",
       "    </tr>\n",
       "    <tr>\n",
       "      <th>2</th>\n",
       "      <td>18505840838</td>\n",
       "      <td>2013-12-16</td>\n",
       "      <td>1</td>\n",
       "      <td>1</td>\n",
       "      <td>3</td>\n",
       "      <td>1229</td>\n",
       "      <td>387.135</td>\n",
       "      <td>4074.135</td>\n",
       "      <td>Flagship store</td>\n",
       "      <td>271509</td>\n",
       "      <td>1981-08-06</td>\n",
       "      <td>M</td>\n",
       "      <td>3.0</td>\n",
       "      <td>Clothing</td>\n",
       "      <td>Women</td>\n",
       "    </tr>\n",
       "    <tr>\n",
       "      <th>3</th>\n",
       "      <td>92814475704</td>\n",
       "      <td>2013-08-16</td>\n",
       "      <td>1</td>\n",
       "      <td>1</td>\n",
       "      <td>-4</td>\n",
       "      <td>-284</td>\n",
       "      <td>119.280</td>\n",
       "      <td>-1255.280</td>\n",
       "      <td>Flagship store</td>\n",
       "      <td>267750</td>\n",
       "      <td>1986-10-13</td>\n",
       "      <td>M</td>\n",
       "      <td>1.0</td>\n",
       "      <td>Clothing</td>\n",
       "      <td>Women</td>\n",
       "    </tr>\n",
       "    <tr>\n",
       "      <th>4</th>\n",
       "      <td>92814475704</td>\n",
       "      <td>2013-07-08</td>\n",
       "      <td>1</td>\n",
       "      <td>1</td>\n",
       "      <td>4</td>\n",
       "      <td>284</td>\n",
       "      <td>119.280</td>\n",
       "      <td>1255.280</td>\n",
       "      <td>Flagship store</td>\n",
       "      <td>267750</td>\n",
       "      <td>1986-10-13</td>\n",
       "      <td>M</td>\n",
       "      <td>1.0</td>\n",
       "      <td>Clothing</td>\n",
       "      <td>Women</td>\n",
       "    </tr>\n",
       "  </tbody>\n",
       "</table>\n",
       "</div>"
      ],
      "text/plain": [
       "   transaction_id  tran_date  prod_subcat_code  prod_cat_code  Qty  Rate  \\\n",
       "0     80712190438 2014-02-28                 1              1   -5  -772   \n",
       "1     80712190438 2014-02-20                 1              1    5   772   \n",
       "2     18505840838 2013-12-16                 1              1    3  1229   \n",
       "3     92814475704 2013-08-16                 1              1   -4  -284   \n",
       "4     92814475704 2013-07-08                 1              1    4   284   \n",
       "\n",
       "       Tax  total_amt      Store_type  customer_Id        DOB Gender  \\\n",
       "0  405.300  -4265.300          e-Shop       270351 1981-09-26      M   \n",
       "1  405.300   4265.300          e-Shop       270351 1981-09-26      M   \n",
       "2  387.135   4074.135  Flagship store       271509 1981-08-06      M   \n",
       "3  119.280  -1255.280  Flagship store       267750 1986-10-13      M   \n",
       "4  119.280   1255.280  Flagship store       267750 1986-10-13      M   \n",
       "\n",
       "   city_code  prod_cat prod_subcat  \n",
       "0        5.0  Clothing       Women  \n",
       "1        5.0  Clothing       Women  \n",
       "2        3.0  Clothing       Women  \n",
       "3        1.0  Clothing       Women  \n",
       "4        1.0  Clothing       Women  "
      ]
     },
     "execution_count": 4,
     "metadata": {},
     "output_type": "execute_result"
    }
   ],
   "source": [
    "customer_final.head()"
   ]
  },
  {
   "cell_type": "markdown",
   "metadata": {},
   "source": [
    "# summary report"
   ]
  },
  {
   "cell_type": "code",
   "execution_count": 5,
   "metadata": {
    "scrolled": true
   },
   "outputs": [
    {
     "data": {
      "text/plain": [
       "transaction_id               int64\n",
       "tran_date           datetime64[ns]\n",
       "prod_subcat_code             int64\n",
       "prod_cat_code                int64\n",
       "Qty                          int64\n",
       "Rate                         int64\n",
       "Tax                        float64\n",
       "total_amt                  float64\n",
       "Store_type                  object\n",
       "customer_Id                  int64\n",
       "DOB                 datetime64[ns]\n",
       "Gender                      object\n",
       "city_code                  float64\n",
       "prod_cat                    object\n",
       "prod_subcat                 object\n",
       "dtype: object"
      ]
     },
     "execution_count": 5,
     "metadata": {},
     "output_type": "execute_result"
    }
   ],
   "source": [
    "customer_final.dtypes"
   ]
  },
  {
   "cell_type": "code",
   "execution_count": 6,
   "metadata": {},
   "outputs": [
    {
     "data": {
      "text/html": [
       "<div>\n",
       "<style scoped>\n",
       "    .dataframe tbody tr th:only-of-type {\n",
       "        vertical-align: middle;\n",
       "    }\n",
       "\n",
       "    .dataframe tbody tr th {\n",
       "        vertical-align: top;\n",
       "    }\n",
       "\n",
       "    .dataframe thead th {\n",
       "        text-align: right;\n",
       "    }\n",
       "</style>\n",
       "<table border=\"1\" class=\"dataframe\">\n",
       "  <thead>\n",
       "    <tr style=\"text-align: right;\">\n",
       "      <th></th>\n",
       "      <th>transaction_id</th>\n",
       "      <th>tran_date</th>\n",
       "      <th>prod_subcat_code</th>\n",
       "      <th>prod_cat_code</th>\n",
       "      <th>Qty</th>\n",
       "      <th>Rate</th>\n",
       "      <th>Tax</th>\n",
       "      <th>total_amt</th>\n",
       "      <th>Store_type</th>\n",
       "      <th>customer_Id</th>\n",
       "      <th>DOB</th>\n",
       "      <th>Gender</th>\n",
       "      <th>city_code</th>\n",
       "      <th>prod_cat</th>\n",
       "      <th>prod_subcat</th>\n",
       "    </tr>\n",
       "  </thead>\n",
       "  <tbody>\n",
       "    <tr>\n",
       "      <th>0</th>\n",
       "      <td>80712190438</td>\n",
       "      <td>2014-02-28</td>\n",
       "      <td>1</td>\n",
       "      <td>1</td>\n",
       "      <td>-5</td>\n",
       "      <td>-772</td>\n",
       "      <td>405.300</td>\n",
       "      <td>-4265.300</td>\n",
       "      <td>e-Shop</td>\n",
       "      <td>270351</td>\n",
       "      <td>1981-09-26</td>\n",
       "      <td>M</td>\n",
       "      <td>5.0</td>\n",
       "      <td>Clothing</td>\n",
       "      <td>Women</td>\n",
       "    </tr>\n",
       "    <tr>\n",
       "      <th>1</th>\n",
       "      <td>80712190438</td>\n",
       "      <td>2014-02-20</td>\n",
       "      <td>1</td>\n",
       "      <td>1</td>\n",
       "      <td>5</td>\n",
       "      <td>772</td>\n",
       "      <td>405.300</td>\n",
       "      <td>4265.300</td>\n",
       "      <td>e-Shop</td>\n",
       "      <td>270351</td>\n",
       "      <td>1981-09-26</td>\n",
       "      <td>M</td>\n",
       "      <td>5.0</td>\n",
       "      <td>Clothing</td>\n",
       "      <td>Women</td>\n",
       "    </tr>\n",
       "    <tr>\n",
       "      <th>2</th>\n",
       "      <td>18505840838</td>\n",
       "      <td>2013-12-16</td>\n",
       "      <td>1</td>\n",
       "      <td>1</td>\n",
       "      <td>3</td>\n",
       "      <td>1229</td>\n",
       "      <td>387.135</td>\n",
       "      <td>4074.135</td>\n",
       "      <td>Flagship store</td>\n",
       "      <td>271509</td>\n",
       "      <td>1981-08-06</td>\n",
       "      <td>M</td>\n",
       "      <td>3.0</td>\n",
       "      <td>Clothing</td>\n",
       "      <td>Women</td>\n",
       "    </tr>\n",
       "    <tr>\n",
       "      <th>3</th>\n",
       "      <td>92814475704</td>\n",
       "      <td>2013-08-16</td>\n",
       "      <td>1</td>\n",
       "      <td>1</td>\n",
       "      <td>-4</td>\n",
       "      <td>-284</td>\n",
       "      <td>119.280</td>\n",
       "      <td>-1255.280</td>\n",
       "      <td>Flagship store</td>\n",
       "      <td>267750</td>\n",
       "      <td>1986-10-13</td>\n",
       "      <td>M</td>\n",
       "      <td>1.0</td>\n",
       "      <td>Clothing</td>\n",
       "      <td>Women</td>\n",
       "    </tr>\n",
       "    <tr>\n",
       "      <th>4</th>\n",
       "      <td>92814475704</td>\n",
       "      <td>2013-07-08</td>\n",
       "      <td>1</td>\n",
       "      <td>1</td>\n",
       "      <td>4</td>\n",
       "      <td>284</td>\n",
       "      <td>119.280</td>\n",
       "      <td>1255.280</td>\n",
       "      <td>Flagship store</td>\n",
       "      <td>267750</td>\n",
       "      <td>1986-10-13</td>\n",
       "      <td>M</td>\n",
       "      <td>1.0</td>\n",
       "      <td>Clothing</td>\n",
       "      <td>Women</td>\n",
       "    </tr>\n",
       "    <tr>\n",
       "      <th>5</th>\n",
       "      <td>4737317330</td>\n",
       "      <td>2011-07-29</td>\n",
       "      <td>1</td>\n",
       "      <td>1</td>\n",
       "      <td>5</td>\n",
       "      <td>1141</td>\n",
       "      <td>599.025</td>\n",
       "      <td>6304.025</td>\n",
       "      <td>MBR</td>\n",
       "      <td>269345</td>\n",
       "      <td>1970-06-26</td>\n",
       "      <td>F</td>\n",
       "      <td>10.0</td>\n",
       "      <td>Clothing</td>\n",
       "      <td>Women</td>\n",
       "    </tr>\n",
       "    <tr>\n",
       "      <th>6</th>\n",
       "      <td>44425889101</td>\n",
       "      <td>2012-03-18</td>\n",
       "      <td>1</td>\n",
       "      <td>1</td>\n",
       "      <td>4</td>\n",
       "      <td>897</td>\n",
       "      <td>376.740</td>\n",
       "      <td>3964.740</td>\n",
       "      <td>Flagship store</td>\n",
       "      <td>274987</td>\n",
       "      <td>1983-08-10</td>\n",
       "      <td>M</td>\n",
       "      <td>2.0</td>\n",
       "      <td>Clothing</td>\n",
       "      <td>Women</td>\n",
       "    </tr>\n",
       "    <tr>\n",
       "      <th>7</th>\n",
       "      <td>90501340928</td>\n",
       "      <td>2012-02-19</td>\n",
       "      <td>1</td>\n",
       "      <td>1</td>\n",
       "      <td>1</td>\n",
       "      <td>1122</td>\n",
       "      <td>117.810</td>\n",
       "      <td>1239.810</td>\n",
       "      <td>TeleShop</td>\n",
       "      <td>271817</td>\n",
       "      <td>1989-12-24</td>\n",
       "      <td>M</td>\n",
       "      <td>8.0</td>\n",
       "      <td>Clothing</td>\n",
       "      <td>Women</td>\n",
       "    </tr>\n",
       "    <tr>\n",
       "      <th>8</th>\n",
       "      <td>99335419136</td>\n",
       "      <td>2012-12-13</td>\n",
       "      <td>1</td>\n",
       "      <td>1</td>\n",
       "      <td>3</td>\n",
       "      <td>1181</td>\n",
       "      <td>372.015</td>\n",
       "      <td>3915.015</td>\n",
       "      <td>e-Shop</td>\n",
       "      <td>268755</td>\n",
       "      <td>1984-07-15</td>\n",
       "      <td>F</td>\n",
       "      <td>8.0</td>\n",
       "      <td>Clothing</td>\n",
       "      <td>Women</td>\n",
       "    </tr>\n",
       "    <tr>\n",
       "      <th>9</th>\n",
       "      <td>35030444164</td>\n",
       "      <td>2011-11-18</td>\n",
       "      <td>1</td>\n",
       "      <td>1</td>\n",
       "      <td>5</td>\n",
       "      <td>1047</td>\n",
       "      <td>549.675</td>\n",
       "      <td>5784.675</td>\n",
       "      <td>MBR</td>\n",
       "      <td>268129</td>\n",
       "      <td>1982-07-08</td>\n",
       "      <td>F</td>\n",
       "      <td>9.0</td>\n",
       "      <td>Clothing</td>\n",
       "      <td>Women</td>\n",
       "    </tr>\n",
       "  </tbody>\n",
       "</table>\n",
       "</div>"
      ],
      "text/plain": [
       "   transaction_id  tran_date  prod_subcat_code  prod_cat_code  Qty  Rate  \\\n",
       "0     80712190438 2014-02-28                 1              1   -5  -772   \n",
       "1     80712190438 2014-02-20                 1              1    5   772   \n",
       "2     18505840838 2013-12-16                 1              1    3  1229   \n",
       "3     92814475704 2013-08-16                 1              1   -4  -284   \n",
       "4     92814475704 2013-07-08                 1              1    4   284   \n",
       "5      4737317330 2011-07-29                 1              1    5  1141   \n",
       "6     44425889101 2012-03-18                 1              1    4   897   \n",
       "7     90501340928 2012-02-19                 1              1    1  1122   \n",
       "8     99335419136 2012-12-13                 1              1    3  1181   \n",
       "9     35030444164 2011-11-18                 1              1    5  1047   \n",
       "\n",
       "       Tax  total_amt      Store_type  customer_Id        DOB Gender  \\\n",
       "0  405.300  -4265.300          e-Shop       270351 1981-09-26      M   \n",
       "1  405.300   4265.300          e-Shop       270351 1981-09-26      M   \n",
       "2  387.135   4074.135  Flagship store       271509 1981-08-06      M   \n",
       "3  119.280  -1255.280  Flagship store       267750 1986-10-13      M   \n",
       "4  119.280   1255.280  Flagship store       267750 1986-10-13      M   \n",
       "5  599.025   6304.025             MBR       269345 1970-06-26      F   \n",
       "6  376.740   3964.740  Flagship store       274987 1983-08-10      M   \n",
       "7  117.810   1239.810        TeleShop       271817 1989-12-24      M   \n",
       "8  372.015   3915.015          e-Shop       268755 1984-07-15      F   \n",
       "9  549.675   5784.675             MBR       268129 1982-07-08      F   \n",
       "\n",
       "   city_code  prod_cat prod_subcat  \n",
       "0        5.0  Clothing       Women  \n",
       "1        5.0  Clothing       Women  \n",
       "2        3.0  Clothing       Women  \n",
       "3        1.0  Clothing       Women  \n",
       "4        1.0  Clothing       Women  \n",
       "5       10.0  Clothing       Women  \n",
       "6        2.0  Clothing       Women  \n",
       "7        8.0  Clothing       Women  \n",
       "8        8.0  Clothing       Women  \n",
       "9        9.0  Clothing       Women  "
      ]
     },
     "execution_count": 6,
     "metadata": {},
     "output_type": "execute_result"
    }
   ],
   "source": [
    "customer_final.head(10)"
   ]
  },
  {
   "cell_type": "code",
   "execution_count": 7,
   "metadata": {},
   "outputs": [
    {
     "data": {
      "text/html": [
       "<div>\n",
       "<style scoped>\n",
       "    .dataframe tbody tr th:only-of-type {\n",
       "        vertical-align: middle;\n",
       "    }\n",
       "\n",
       "    .dataframe tbody tr th {\n",
       "        vertical-align: top;\n",
       "    }\n",
       "\n",
       "    .dataframe thead th {\n",
       "        text-align: right;\n",
       "    }\n",
       "</style>\n",
       "<table border=\"1\" class=\"dataframe\">\n",
       "  <thead>\n",
       "    <tr style=\"text-align: right;\">\n",
       "      <th></th>\n",
       "      <th>transaction_id</th>\n",
       "      <th>tran_date</th>\n",
       "      <th>prod_subcat_code</th>\n",
       "      <th>prod_cat_code</th>\n",
       "      <th>Qty</th>\n",
       "      <th>Rate</th>\n",
       "      <th>Tax</th>\n",
       "      <th>total_amt</th>\n",
       "      <th>Store_type</th>\n",
       "      <th>customer_Id</th>\n",
       "      <th>DOB</th>\n",
       "      <th>Gender</th>\n",
       "      <th>city_code</th>\n",
       "      <th>prod_cat</th>\n",
       "      <th>prod_subcat</th>\n",
       "    </tr>\n",
       "  </thead>\n",
       "  <tbody>\n",
       "    <tr>\n",
       "      <th>23043</th>\n",
       "      <td>3387244829</td>\n",
       "      <td>2011-07-15</td>\n",
       "      <td>4</td>\n",
       "      <td>4</td>\n",
       "      <td>1</td>\n",
       "      <td>388</td>\n",
       "      <td>40.740</td>\n",
       "      <td>428.740</td>\n",
       "      <td>e-Shop</td>\n",
       "      <td>269114</td>\n",
       "      <td>1989-01-22</td>\n",
       "      <td>F</td>\n",
       "      <td>5.0</td>\n",
       "      <td>Bags</td>\n",
       "      <td>Women</td>\n",
       "    </tr>\n",
       "    <tr>\n",
       "      <th>23044</th>\n",
       "      <td>76906459516</td>\n",
       "      <td>2011-06-15</td>\n",
       "      <td>4</td>\n",
       "      <td>4</td>\n",
       "      <td>2</td>\n",
       "      <td>1263</td>\n",
       "      <td>265.230</td>\n",
       "      <td>2791.230</td>\n",
       "      <td>Flagship store</td>\n",
       "      <td>267940</td>\n",
       "      <td>1979-09-06</td>\n",
       "      <td>M</td>\n",
       "      <td>9.0</td>\n",
       "      <td>Bags</td>\n",
       "      <td>Women</td>\n",
       "    </tr>\n",
       "    <tr>\n",
       "      <th>23045</th>\n",
       "      <td>73549617163</td>\n",
       "      <td>2011-05-07</td>\n",
       "      <td>4</td>\n",
       "      <td>4</td>\n",
       "      <td>5</td>\n",
       "      <td>263</td>\n",
       "      <td>138.075</td>\n",
       "      <td>1453.075</td>\n",
       "      <td>e-Shop</td>\n",
       "      <td>271334</td>\n",
       "      <td>1983-08-12</td>\n",
       "      <td>F</td>\n",
       "      <td>10.0</td>\n",
       "      <td>Bags</td>\n",
       "      <td>Women</td>\n",
       "    </tr>\n",
       "    <tr>\n",
       "      <th>23046</th>\n",
       "      <td>75339646315</td>\n",
       "      <td>2011-02-05</td>\n",
       "      <td>4</td>\n",
       "      <td>4</td>\n",
       "      <td>4</td>\n",
       "      <td>1381</td>\n",
       "      <td>580.020</td>\n",
       "      <td>6104.020</td>\n",
       "      <td>e-Shop</td>\n",
       "      <td>274827</td>\n",
       "      <td>1988-12-27</td>\n",
       "      <td>F</td>\n",
       "      <td>8.0</td>\n",
       "      <td>Bags</td>\n",
       "      <td>Women</td>\n",
       "    </tr>\n",
       "    <tr>\n",
       "      <th>23047</th>\n",
       "      <td>6650926717</td>\n",
       "      <td>2011-05-04</td>\n",
       "      <td>4</td>\n",
       "      <td>4</td>\n",
       "      <td>4</td>\n",
       "      <td>1036</td>\n",
       "      <td>435.120</td>\n",
       "      <td>4579.120</td>\n",
       "      <td>MBR</td>\n",
       "      <td>268110</td>\n",
       "      <td>1976-06-03</td>\n",
       "      <td>M</td>\n",
       "      <td>2.0</td>\n",
       "      <td>Bags</td>\n",
       "      <td>Women</td>\n",
       "    </tr>\n",
       "    <tr>\n",
       "      <th>23048</th>\n",
       "      <td>7173864364</td>\n",
       "      <td>2011-09-04</td>\n",
       "      <td>4</td>\n",
       "      <td>4</td>\n",
       "      <td>5</td>\n",
       "      <td>788</td>\n",
       "      <td>413.700</td>\n",
       "      <td>4353.700</td>\n",
       "      <td>Flagship store</td>\n",
       "      <td>271157</td>\n",
       "      <td>1973-10-15</td>\n",
       "      <td>F</td>\n",
       "      <td>6.0</td>\n",
       "      <td>Bags</td>\n",
       "      <td>Women</td>\n",
       "    </tr>\n",
       "    <tr>\n",
       "      <th>23049</th>\n",
       "      <td>5618131425</td>\n",
       "      <td>2011-03-03</td>\n",
       "      <td>4</td>\n",
       "      <td>4</td>\n",
       "      <td>2</td>\n",
       "      <td>1150</td>\n",
       "      <td>241.500</td>\n",
       "      <td>2541.500</td>\n",
       "      <td>MBR</td>\n",
       "      <td>272010</td>\n",
       "      <td>1972-12-22</td>\n",
       "      <td>F</td>\n",
       "      <td>5.0</td>\n",
       "      <td>Bags</td>\n",
       "      <td>Women</td>\n",
       "    </tr>\n",
       "    <tr>\n",
       "      <th>23050</th>\n",
       "      <td>18727956164</td>\n",
       "      <td>2011-02-23</td>\n",
       "      <td>4</td>\n",
       "      <td>4</td>\n",
       "      <td>5</td>\n",
       "      <td>668</td>\n",
       "      <td>350.700</td>\n",
       "      <td>3690.700</td>\n",
       "      <td>e-Shop</td>\n",
       "      <td>267161</td>\n",
       "      <td>1981-08-05</td>\n",
       "      <td>M</td>\n",
       "      <td>9.0</td>\n",
       "      <td>Bags</td>\n",
       "      <td>Women</td>\n",
       "    </tr>\n",
       "    <tr>\n",
       "      <th>23051</th>\n",
       "      <td>60416814232</td>\n",
       "      <td>2011-02-18</td>\n",
       "      <td>4</td>\n",
       "      <td>4</td>\n",
       "      <td>4</td>\n",
       "      <td>202</td>\n",
       "      <td>84.840</td>\n",
       "      <td>892.840</td>\n",
       "      <td>Flagship store</td>\n",
       "      <td>273281</td>\n",
       "      <td>1988-12-14</td>\n",
       "      <td>F</td>\n",
       "      <td>9.0</td>\n",
       "      <td>Bags</td>\n",
       "      <td>Women</td>\n",
       "    </tr>\n",
       "    <tr>\n",
       "      <th>23052</th>\n",
       "      <td>83245680995</td>\n",
       "      <td>2011-01-26</td>\n",
       "      <td>4</td>\n",
       "      <td>4</td>\n",
       "      <td>4</td>\n",
       "      <td>1477</td>\n",
       "      <td>620.340</td>\n",
       "      <td>6528.340</td>\n",
       "      <td>e-Shop</td>\n",
       "      <td>273723</td>\n",
       "      <td>1984-01-21</td>\n",
       "      <td>F</td>\n",
       "      <td>4.0</td>\n",
       "      <td>Bags</td>\n",
       "      <td>Women</td>\n",
       "    </tr>\n",
       "  </tbody>\n",
       "</table>\n",
       "</div>"
      ],
      "text/plain": [
       "       transaction_id  tran_date  prod_subcat_code  prod_cat_code  Qty  Rate  \\\n",
       "23043      3387244829 2011-07-15                 4              4    1   388   \n",
       "23044     76906459516 2011-06-15                 4              4    2  1263   \n",
       "23045     73549617163 2011-05-07                 4              4    5   263   \n",
       "23046     75339646315 2011-02-05                 4              4    4  1381   \n",
       "23047      6650926717 2011-05-04                 4              4    4  1036   \n",
       "23048      7173864364 2011-09-04                 4              4    5   788   \n",
       "23049      5618131425 2011-03-03                 4              4    2  1150   \n",
       "23050     18727956164 2011-02-23                 4              4    5   668   \n",
       "23051     60416814232 2011-02-18                 4              4    4   202   \n",
       "23052     83245680995 2011-01-26                 4              4    4  1477   \n",
       "\n",
       "           Tax  total_amt      Store_type  customer_Id        DOB Gender  \\\n",
       "23043   40.740    428.740          e-Shop       269114 1989-01-22      F   \n",
       "23044  265.230   2791.230  Flagship store       267940 1979-09-06      M   \n",
       "23045  138.075   1453.075          e-Shop       271334 1983-08-12      F   \n",
       "23046  580.020   6104.020          e-Shop       274827 1988-12-27      F   \n",
       "23047  435.120   4579.120             MBR       268110 1976-06-03      M   \n",
       "23048  413.700   4353.700  Flagship store       271157 1973-10-15      F   \n",
       "23049  241.500   2541.500             MBR       272010 1972-12-22      F   \n",
       "23050  350.700   3690.700          e-Shop       267161 1981-08-05      M   \n",
       "23051   84.840    892.840  Flagship store       273281 1988-12-14      F   \n",
       "23052  620.340   6528.340          e-Shop       273723 1984-01-21      F   \n",
       "\n",
       "       city_code prod_cat prod_subcat  \n",
       "23043        5.0     Bags       Women  \n",
       "23044        9.0     Bags       Women  \n",
       "23045       10.0     Bags       Women  \n",
       "23046        8.0     Bags       Women  \n",
       "23047        2.0     Bags       Women  \n",
       "23048        6.0     Bags       Women  \n",
       "23049        5.0     Bags       Women  \n",
       "23050        9.0     Bags       Women  \n",
       "23051        9.0     Bags       Women  \n",
       "23052        4.0     Bags       Women  "
      ]
     },
     "execution_count": 7,
     "metadata": {},
     "output_type": "execute_result"
    }
   ],
   "source": [
    "customer_final.tail(10)"
   ]
  },
  {
   "cell_type": "code",
   "execution_count": 8,
   "metadata": {},
   "outputs": [
    {
     "data": {
      "text/html": [
       "<div>\n",
       "<style scoped>\n",
       "    .dataframe tbody tr th:only-of-type {\n",
       "        vertical-align: middle;\n",
       "    }\n",
       "\n",
       "    .dataframe tbody tr th {\n",
       "        vertical-align: top;\n",
       "    }\n",
       "\n",
       "    .dataframe thead th {\n",
       "        text-align: right;\n",
       "    }\n",
       "</style>\n",
       "<table border=\"1\" class=\"dataframe\">\n",
       "  <thead>\n",
       "    <tr style=\"text-align: right;\">\n",
       "      <th></th>\n",
       "      <th>Qty</th>\n",
       "      <th>Rate</th>\n",
       "      <th>Tax</th>\n",
       "      <th>total_amt</th>\n",
       "    </tr>\n",
       "  </thead>\n",
       "  <tbody>\n",
       "    <tr>\n",
       "      <th>min</th>\n",
       "      <td>-5.0</td>\n",
       "      <td>-1499.0</td>\n",
       "      <td>7.350</td>\n",
       "      <td>-8270.925</td>\n",
       "    </tr>\n",
       "    <tr>\n",
       "      <th>25%</th>\n",
       "      <td>1.0</td>\n",
       "      <td>312.0</td>\n",
       "      <td>98.280</td>\n",
       "      <td>762.450</td>\n",
       "    </tr>\n",
       "    <tr>\n",
       "      <th>50%</th>\n",
       "      <td>3.0</td>\n",
       "      <td>710.0</td>\n",
       "      <td>199.080</td>\n",
       "      <td>1754.740</td>\n",
       "    </tr>\n",
       "    <tr>\n",
       "      <th>75%</th>\n",
       "      <td>4.0</td>\n",
       "      <td>1109.0</td>\n",
       "      <td>365.715</td>\n",
       "      <td>3569.150</td>\n",
       "    </tr>\n",
       "    <tr>\n",
       "      <th>max</th>\n",
       "      <td>5.0</td>\n",
       "      <td>1500.0</td>\n",
       "      <td>787.500</td>\n",
       "      <td>8287.500</td>\n",
       "    </tr>\n",
       "  </tbody>\n",
       "</table>\n",
       "</div>"
      ],
      "text/plain": [
       "     Qty    Rate      Tax  total_amt\n",
       "min -5.0 -1499.0    7.350  -8270.925\n",
       "25%  1.0   312.0   98.280    762.450\n",
       "50%  3.0   710.0  199.080   1754.740\n",
       "75%  4.0  1109.0  365.715   3569.150\n",
       "max  5.0  1500.0  787.500   8287.500"
      ]
     },
     "execution_count": 8,
     "metadata": {},
     "output_type": "execute_result"
    }
   ],
   "source": [
    "customer_final.describe().drop(customer_final.describe().index[:3])[['Qty', 'Rate', 'Tax', 'total_amt']]"
   ]
  },
  {
   "cell_type": "code",
   "execution_count": 9,
   "metadata": {},
   "outputs": [],
   "source": [
    "customer_final[customer_final.select_dtypes(include=object).columns.values] = customer_final[customer_final.select_dtypes(include=object).columns.values].astype(\"category\") "
   ]
  },
  {
   "cell_type": "code",
   "execution_count": 10,
   "metadata": {},
   "outputs": [],
   "source": [
    "cat_df = customer_final.select_dtypes(include='category')"
   ]
  },
  {
   "cell_type": "code",
   "execution_count": 11,
   "metadata": {},
   "outputs": [
    {
     "data": {
      "text/plain": [
       "Store_type      4\n",
       "Gender          2\n",
       "prod_cat        6\n",
       "prod_subcat    18\n",
       "dtype: int64"
      ]
     },
     "execution_count": 11,
     "metadata": {},
     "output_type": "execute_result"
    }
   ],
   "source": [
    "customer_final.select_dtypes(include='category').nunique()"
   ]
  },
  {
   "cell_type": "code",
   "execution_count": 12,
   "metadata": {},
   "outputs": [
    {
     "data": {
      "text/html": [
       "<div>\n",
       "<style scoped>\n",
       "    .dataframe tbody tr th:only-of-type {\n",
       "        vertical-align: middle;\n",
       "    }\n",
       "\n",
       "    .dataframe tbody tr th {\n",
       "        vertical-align: top;\n",
       "    }\n",
       "\n",
       "    .dataframe thead th {\n",
       "        text-align: right;\n",
       "    }\n",
       "</style>\n",
       "<table border=\"1\" class=\"dataframe\">\n",
       "  <thead>\n",
       "    <tr style=\"text-align: right;\">\n",
       "      <th></th>\n",
       "      <th>Store_type</th>\n",
       "      <th>Gender</th>\n",
       "      <th>prod_cat</th>\n",
       "      <th>prod_subcat</th>\n",
       "    </tr>\n",
       "  </thead>\n",
       "  <tbody>\n",
       "    <tr>\n",
       "      <th>0</th>\n",
       "      <td>e-Shop</td>\n",
       "      <td>M</td>\n",
       "      <td>Clothing</td>\n",
       "      <td>Women</td>\n",
       "    </tr>\n",
       "    <tr>\n",
       "      <th>1</th>\n",
       "      <td>e-Shop</td>\n",
       "      <td>M</td>\n",
       "      <td>Clothing</td>\n",
       "      <td>Women</td>\n",
       "    </tr>\n",
       "    <tr>\n",
       "      <th>2</th>\n",
       "      <td>Flagship store</td>\n",
       "      <td>M</td>\n",
       "      <td>Clothing</td>\n",
       "      <td>Women</td>\n",
       "    </tr>\n",
       "    <tr>\n",
       "      <th>3</th>\n",
       "      <td>Flagship store</td>\n",
       "      <td>M</td>\n",
       "      <td>Clothing</td>\n",
       "      <td>Women</td>\n",
       "    </tr>\n",
       "    <tr>\n",
       "      <th>4</th>\n",
       "      <td>Flagship store</td>\n",
       "      <td>M</td>\n",
       "      <td>Clothing</td>\n",
       "      <td>Women</td>\n",
       "    </tr>\n",
       "    <tr>\n",
       "      <th>...</th>\n",
       "      <td>...</td>\n",
       "      <td>...</td>\n",
       "      <td>...</td>\n",
       "      <td>...</td>\n",
       "    </tr>\n",
       "    <tr>\n",
       "      <th>23048</th>\n",
       "      <td>Flagship store</td>\n",
       "      <td>F</td>\n",
       "      <td>Bags</td>\n",
       "      <td>Women</td>\n",
       "    </tr>\n",
       "    <tr>\n",
       "      <th>23049</th>\n",
       "      <td>MBR</td>\n",
       "      <td>F</td>\n",
       "      <td>Bags</td>\n",
       "      <td>Women</td>\n",
       "    </tr>\n",
       "    <tr>\n",
       "      <th>23050</th>\n",
       "      <td>e-Shop</td>\n",
       "      <td>M</td>\n",
       "      <td>Bags</td>\n",
       "      <td>Women</td>\n",
       "    </tr>\n",
       "    <tr>\n",
       "      <th>23051</th>\n",
       "      <td>Flagship store</td>\n",
       "      <td>F</td>\n",
       "      <td>Bags</td>\n",
       "      <td>Women</td>\n",
       "    </tr>\n",
       "    <tr>\n",
       "      <th>23052</th>\n",
       "      <td>e-Shop</td>\n",
       "      <td>F</td>\n",
       "      <td>Bags</td>\n",
       "      <td>Women</td>\n",
       "    </tr>\n",
       "  </tbody>\n",
       "</table>\n",
       "<p>23053 rows × 4 columns</p>\n",
       "</div>"
      ],
      "text/plain": [
       "           Store_type Gender  prod_cat prod_subcat\n",
       "0              e-Shop      M  Clothing       Women\n",
       "1              e-Shop      M  Clothing       Women\n",
       "2      Flagship store      M  Clothing       Women\n",
       "3      Flagship store      M  Clothing       Women\n",
       "4      Flagship store      M  Clothing       Women\n",
       "...               ...    ...       ...         ...\n",
       "23048  Flagship store      F      Bags       Women\n",
       "23049             MBR      F      Bags       Women\n",
       "23050          e-Shop      M      Bags       Women\n",
       "23051  Flagship store      F      Bags       Women\n",
       "23052          e-Shop      F      Bags       Women\n",
       "\n",
       "[23053 rows x 4 columns]"
      ]
     },
     "execution_count": 12,
     "metadata": {},
     "output_type": "execute_result"
    }
   ],
   "source": [
    "cat_df"
   ]
  },
  {
   "cell_type": "markdown",
   "metadata": {},
   "source": [
    "##  Generate histograms for all continuous variables and frequency bars for categorical variables"
   ]
  },
  {
   "cell_type": "code",
   "execution_count": 13,
   "metadata": {},
   "outputs": [
    {
     "data": {
      "image/png": "[encoded data removed]",
      "text/plain": [
       "<Figure size 584.8x1152 with 8 Axes>"
      ]
     },
     "metadata": {},
     "output_type": "display_data"
    }
   ],
   "source": [
    "g = sns.catplot(y=\"prod_cat\", col=\"Gender\", row=\"Store_type\",\n",
    "                data=cat_df, kind=\"count\", legend_out=True, \n",
    "                height=4, aspect=1);\n",
    "g = g.add_legend()\n",
    "plt.show()"
   ]
  },
  {
   "cell_type": "code",
   "execution_count": 14,
   "metadata": {},
   "outputs": [
    {
     "data": {
      "text/html": [
       "<div>\n",
       "<style scoped>\n",
       "    .dataframe tbody tr th:only-of-type {\n",
       "        vertical-align: middle;\n",
       "    }\n",
       "\n",
       "    .dataframe tbody tr th {\n",
       "        vertical-align: top;\n",
       "    }\n",
       "\n",
       "    .dataframe thead th {\n",
       "        text-align: right;\n",
       "    }\n",
       "</style>\n",
       "<table border=\"1\" class=\"dataframe\">\n",
       "  <thead>\n",
       "    <tr style=\"text-align: right;\">\n",
       "      <th></th>\n",
       "      <th>Store_type</th>\n",
       "      <th>prod_cat</th>\n",
       "      <th>prod_subcat</th>\n",
       "      <th>Gender</th>\n",
       "      <th>Count</th>\n",
       "    </tr>\n",
       "  </thead>\n",
       "  <tbody>\n",
       "    <tr>\n",
       "      <th>24</th>\n",
       "      <td>Flagship store</td>\n",
       "      <td>Bags</td>\n",
       "      <td>Mens</td>\n",
       "      <td>F</td>\n",
       "      <td>90</td>\n",
       "    </tr>\n",
       "    <tr>\n",
       "      <th>25</th>\n",
       "      <td>Flagship store</td>\n",
       "      <td>Bags</td>\n",
       "      <td>Mens</td>\n",
       "      <td>M</td>\n",
       "      <td>103</td>\n",
       "    </tr>\n",
       "    <tr>\n",
       "      <th>34</th>\n",
       "      <td>Flagship store</td>\n",
       "      <td>Bags</td>\n",
       "      <td>Women</td>\n",
       "      <td>F</td>\n",
       "      <td>110</td>\n",
       "    </tr>\n",
       "    <tr>\n",
       "      <th>35</th>\n",
       "      <td>Flagship store</td>\n",
       "      <td>Bags</td>\n",
       "      <td>Women</td>\n",
       "      <td>M</td>\n",
       "      <td>86</td>\n",
       "    </tr>\n",
       "    <tr>\n",
       "      <th>36</th>\n",
       "      <td>Flagship store</td>\n",
       "      <td>Books</td>\n",
       "      <td>Academic</td>\n",
       "      <td>F</td>\n",
       "      <td>111</td>\n",
       "    </tr>\n",
       "    <tr>\n",
       "      <th>...</th>\n",
       "      <td>...</td>\n",
       "      <td>...</td>\n",
       "      <td>...</td>\n",
       "      <td>...</td>\n",
       "      <td>...</td>\n",
       "    </tr>\n",
       "    <tr>\n",
       "      <th>847</th>\n",
       "      <td>e-Shop</td>\n",
       "      <td>Home and kitchen</td>\n",
       "      <td>Furnishing</td>\n",
       "      <td>M</td>\n",
       "      <td>213</td>\n",
       "    </tr>\n",
       "    <tr>\n",
       "      <th>850</th>\n",
       "      <td>e-Shop</td>\n",
       "      <td>Home and kitchen</td>\n",
       "      <td>Kitchen</td>\n",
       "      <td>F</td>\n",
       "      <td>198</td>\n",
       "    </tr>\n",
       "    <tr>\n",
       "      <th>851</th>\n",
       "      <td>e-Shop</td>\n",
       "      <td>Home and kitchen</td>\n",
       "      <td>Kitchen</td>\n",
       "      <td>M</td>\n",
       "      <td>202</td>\n",
       "    </tr>\n",
       "    <tr>\n",
       "      <th>860</th>\n",
       "      <td>e-Shop</td>\n",
       "      <td>Home and kitchen</td>\n",
       "      <td>Tools</td>\n",
       "      <td>F</td>\n",
       "      <td>237</td>\n",
       "    </tr>\n",
       "    <tr>\n",
       "      <th>861</th>\n",
       "      <td>e-Shop</td>\n",
       "      <td>Home and kitchen</td>\n",
       "      <td>Tools</td>\n",
       "      <td>M</td>\n",
       "      <td>225</td>\n",
       "    </tr>\n",
       "  </tbody>\n",
       "</table>\n",
       "<p>184 rows × 5 columns</p>\n",
       "</div>"
      ],
      "text/plain": [
       "         Store_type          prod_cat prod_subcat Gender  Count\n",
       "24   Flagship store              Bags        Mens      F     90\n",
       "25   Flagship store              Bags        Mens      M    103\n",
       "34   Flagship store              Bags       Women      F    110\n",
       "35   Flagship store              Bags       Women      M     86\n",
       "36   Flagship store             Books    Academic      F    111\n",
       "..              ...               ...         ...    ...    ...\n",
       "847          e-Shop  Home and kitchen  Furnishing      M    213\n",
       "850          e-Shop  Home and kitchen     Kitchen      F    198\n",
       "851          e-Shop  Home and kitchen     Kitchen      M    202\n",
       "860          e-Shop  Home and kitchen       Tools      F    237\n",
       "861          e-Shop  Home and kitchen       Tools      M    225\n",
       "\n",
       "[184 rows x 5 columns]"
      ]
     },
     "execution_count": 14,
     "metadata": {},
     "output_type": "execute_result"
    }
   ],
   "source": [
    "plot=cat_df.groupby(['Store_type', 'prod_cat', 'prod_subcat', 'Gender']).size().reset_index(name=\"Count\")\n",
    "plot = plot[plot.Count > 0]\n",
    "plot"
   ]
  },
  {
   "cell_type": "code",
   "execution_count": 15,
   "metadata": {},
   "outputs": [
    {
     "data": {
      "image/png": "[encoded data removed]",
      "text/plain": [
       "<Figure size 859.35x1440 with 8 Axes>"
      ]
     },
     "metadata": {},
     "output_type": "display_data"
    }
   ],
   "source": [
    "g = sns.FacetGrid(plot, col=\"Gender\", row=\"Store_type\", hue=\"prod_subcat\", palette=sns.color_palette(\"husl\"), height=5, aspect=1, legend_out=True)\n",
    "g = (g.map_dataframe(sns.histplot, y=\"prod_cat\", weights=\"Count\", multiple='stack', data=plot)).add_legend()\n",
    "plt.show()"
   ]
  },
  {
   "cell_type": "markdown",
   "metadata": {},
   "source": [
    "## Time period of the Transaction data"
   ]
  },
  {
   "cell_type": "code",
   "execution_count": 16,
   "metadata": {},
   "outputs": [
    {
     "data": {
      "text/plain": [
       "1430"
      ]
     },
     "execution_count": 16,
     "metadata": {},
     "output_type": "execute_result"
    }
   ],
   "source": [
    "(customer_final.tran_date.max()-customer_final.tran_date.min()).days"
   ]
  },
  {
   "cell_type": "markdown",
   "metadata": {},
   "source": [
    "###### Looks like there are 2177 refunds"
   ]
  },
  {
   "cell_type": "code",
   "execution_count": 129,
   "metadata": {},
   "outputs": [
    {
     "data": {
      "text/plain": [
       "2177"
      ]
     },
     "execution_count": 129,
     "metadata": {},
     "output_type": "execute_result"
    }
   ],
   "source": [
    "customer_final[customer_final.total_amt < 0].shape[0]"
   ]
  },
  {
   "cell_type": "markdown",
   "metadata": {},
   "source": [
    "##  Product categories popularity among females vs male"
   ]
  },
  {
   "cell_type": "code",
   "execution_count": 17,
   "metadata": {},
   "outputs": [
    {
     "data": {
      "image/png": "[encoded data removed]",
      "text/plain": [
       "<Figure size 584.8x288 with 2 Axes>"
      ]
     },
     "metadata": {},
     "output_type": "display_data"
    }
   ],
   "source": [
    "g = sns.catplot(y=\"prod_cat\", col=\"Gender\",\n",
    "                data=cat_df, kind=\"count\", legend_out=True, \n",
    "                height=4, aspect=1);\n",
    "g = g.add_legend()\n",
    "plt.show()"
   ]
  },
  {
   "cell_type": "markdown",
   "metadata": {},
   "source": [
    "## City code with maximum customers by %"
   ]
  },
  {
   "cell_type": "code",
   "execution_count": 137,
   "metadata": {},
   "outputs": [
    {
     "data": {
      "text/plain": [
       "city_code\n",
       "4.0     10.509872\n",
       "3.0     10.462139\n",
       "5.0     10.240833\n",
       "7.0     10.223476\n",
       "10.0    10.123671\n",
       "8.0     10.110653\n",
       "2.0      9.850293\n",
       "1.0      9.798221\n",
       "9.0      9.451074\n",
       "6.0      9.229768\n",
       "dtype: float64"
      ]
     },
     "execution_count": 137,
     "metadata": {},
     "output_type": "execute_result"
    }
   ],
   "source": [
    "customer_final.groupby('city_code').size().sort_values(ascending=False).div(customer_final.groupby('city_code').size().sort_values(ascending=False).sum())*100"
   ]
  },
  {
   "cell_type": "markdown",
   "metadata": {},
   "source": [
    "## Store type sells the maximum products by value and by quantity"
   ]
  },
  {
   "cell_type": "code",
   "execution_count": 18,
   "metadata": {},
   "outputs": [
    {
     "data": {
      "text/plain": [
       "23045"
      ]
     },
     "execution_count": 18,
     "metadata": {},
     "output_type": "execute_result"
    }
   ],
   "source": [
    "customer_final.groupby('city_code').size().sort_values(ascending=False).sum()"
   ]
  },
  {
   "cell_type": "code",
   "execution_count": 19,
   "metadata": {},
   "outputs": [
    {
     "data": {
      "text/plain": [
       "Store_type\n",
       "Flagship store    9.715688e+06\n",
       "MBR               9.674486e+06\n",
       "TeleShop          9.364781e+06\n",
       "e-Shop            1.982482e+07\n",
       "Name: total_amt, dtype: float64"
      ]
     },
     "execution_count": 19,
     "metadata": {},
     "output_type": "execute_result"
    }
   ],
   "source": [
    "customer_final.groupby('Store_type')['total_amt'].sum()"
   ]
  },
  {
   "cell_type": "code",
   "execution_count": 20,
   "metadata": {},
   "outputs": [
    {
     "data": {
      "text/plain": [
       "Store_type\n",
       "Flagship store    4577\n",
       "MBR               4661\n",
       "TeleShop          4504\n",
       "e-Shop            9311\n",
       "dtype: int64"
      ]
     },
     "execution_count": 20,
     "metadata": {},
     "output_type": "execute_result"
    }
   ],
   "source": [
    "customer_final.groupby('Store_type').size()"
   ]
  },
  {
   "cell_type": "markdown",
   "metadata": {},
   "source": [
    "##  Total amount earned from the \"Electronics\" and \"Clothing\" categories from Flagship Stores"
   ]
  },
  {
   "cell_type": "code",
   "execution_count": 152,
   "metadata": {},
   "outputs": [
    {
     "data": {
      "text/plain": [
       "4703341.890000001"
      ]
     },
     "execution_count": 152,
     "metadata": {},
     "output_type": "execute_result"
    }
   ],
   "source": [
    "customer_final[(customer_final['Store_type'] == 'Flagship store')&(customer_final['prod_cat'].isin(['Electronics', 'Books']))].total_amt.sum()"
   ]
  },
  {
   "cell_type": "markdown",
   "metadata": {},
   "source": [
    "## Total amount earned from \"Male\" customers under the \"Electronics\" category?"
   ]
  },
  {
   "cell_type": "code",
   "execution_count": 155,
   "metadata": {},
   "outputs": [
    {
     "data": {
      "text/plain": [
       "5703109.425000001"
      ]
     },
     "execution_count": 155,
     "metadata": {},
     "output_type": "execute_result"
    }
   ],
   "source": [
    "customer_final[(customer_final['Gender'] == 'M')&(customer_final['prod_cat']=='Electronics')].total_amt.sum()"
   ]
  },
  {
   "cell_type": "markdown",
   "metadata": {},
   "source": [
    "## Customers have more than 10 unique transactions, after removing all transactions which have any negative amounts"
   ]
  },
  {
   "cell_type": "code",
   "execution_count": 159,
   "metadata": {},
   "outputs": [
    {
     "data": {
      "text/plain": [
       "customer_Id\n",
       "266794    11\n",
       "270535    11\n",
       "270803    11\n",
       "272741    11\n",
       "273014    11\n",
       "274227    11\n",
       "dtype: int64"
      ]
     },
     "execution_count": 159,
     "metadata": {},
     "output_type": "execute_result"
    }
   ],
   "source": [
    "p=customer_final[customer_final.total_amt > 0].groupby('customer_Id').size()\n",
    "p[p>10]"
   ]
  },
  {
   "cell_type": "markdown",
   "metadata": {},
   "source": [
    "##  For all customers aged between 25 - 35:"
   ]
  },
  {
   "cell_type": "code",
   "execution_count": 31,
   "metadata": {},
   "outputs": [],
   "source": [
    "y=dt.datetime.today().year-customer_final.DOB.apply(lambda x: x.year)"
   ]
  },
  {
   "cell_type": "code",
   "execution_count": 32,
   "metadata": {},
   "outputs": [],
   "source": [
    "yt=~(customer_final.DOB.apply(lambda x: x.month)<dt.datetime.today().month)|((customer_final.DOB.apply(lambda x: x.month)==dt.datetime.today().month)&(customer_final.DOB.apply(lambda x: x.day)<=dt.datetime.today().day))"
   ]
  },
  {
   "cell_type": "code",
   "execution_count": 37,
   "metadata": {},
   "outputs": [],
   "source": [
    "customer_final['Age'] = y-yt\n",
    "df=customer_final[(customer_final.Age >= 25) & (customer_final.Age <= 35)]"
   ]
  },
  {
   "cell_type": "code",
   "execution_count": 40,
   "metadata": {},
   "outputs": [
    {
     "data": {
      "text/plain": [
       "Books               1611\n",
       "Electronics         1314\n",
       "Home and kitchen    1123\n",
       "Footwear             828\n",
       "Clothing             826\n",
       "Bags                 512\n",
       "Name: prod_cat, dtype: int64"
      ]
     },
     "execution_count": 40,
     "metadata": {},
     "output_type": "execute_result"
    }
   ],
   "source": [
    "df.prod_cat.value_counts()"
   ]
  },
  {
   "cell_type": "markdown",
   "metadata": {},
   "source": [
    "## Total amount spent for “Electronics” and “Books” product categories"
   ]
  },
  {
   "cell_type": "code",
   "execution_count": 45,
   "metadata": {},
   "outputs": [
    {
     "data": {
      "text/plain": [
       "6058003.38"
      ]
     },
     "execution_count": 45,
     "metadata": {},
     "output_type": "execute_result"
    }
   ],
   "source": [
    "df[(df.prod_cat=='Electronics')|(df.prod_cat=='Books')].total_amt.sum()"
   ]
  },
  {
   "cell_type": "markdown",
   "metadata": {},
   "source": [
    "## Total amount spent by these customers between 1st Jan, 2014 to 1st Mar, 2014"
   ]
  },
  {
   "cell_type": "code",
   "execution_count": 53,
   "metadata": {},
   "outputs": [
    {
     "data": {
      "text/plain": [
       "428230.595"
      ]
     },
     "execution_count": 53,
     "metadata": {},
     "output_type": "execute_result"
    }
   ],
   "source": [
    "df[(df.tran_date>=dt.datetime(2014,1,1))&(df.tran_date<=dt.datetime(2014,3,1))].total_amt.sum()"
   ]
  },
  {
   "cell_type": "code",
   "execution_count": null,
   "metadata": {},
   "outputs": [],
   "source": []
  }
 ],
 "metadata": {
  "kernelspec": {
   "display_name": "Python 3",
   "language": "python",
   "name": "python3"
  },
  "language_info": {
   "codemirror_mode": {
    "name": "ipython",
    "version": 3
   },
   "file_extension": ".py",
   "mimetype": "text/x-python",
   "name": "python",
   "nbconvert_exporter": "python",
   "pygments_lexer": "ipython3",
   "version": "3.8.3"
  }
 },
 "nbformat": 4,
 "nbformat_minor": 4
}
